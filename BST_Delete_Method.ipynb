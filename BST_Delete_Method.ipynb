{
  "nbformat": 4,
  "nbformat_minor": 0,
  "metadata": {
    "colab": {
      "provenance": [],
      "include_colab_link": true
    },
    "kernelspec": {
      "name": "python3",
      "display_name": "Python 3"
    },
    "language_info": {
      "name": "python"
    }
  },
  "cells": [
    {
      "cell_type": "markdown",
      "metadata": {
        "id": "view-in-github",
        "colab_type": "text"
      },
      "source": [
        "<a href=\"https://colab.research.google.com/github/James1950/Data-Structures-and-Algorithms-/blob/main/BST_Delete_Method.ipynb\" target=\"_parent\"><img src=\"https://colab.research.google.com/assets/colab-badge.svg\" alt=\"Open In Colab\"/></a>"
      ]
    },
    {
      "cell_type": "markdown",
      "source": [
        "Define a tree Node"
      ],
      "metadata": {
        "id": "naaYv5Uig_PQ"
      }
    },
    {
      "cell_type": "code",
      "execution_count": null,
      "metadata": {
        "id": "74l0l0_Hg2hj"
      },
      "outputs": [],
      "source": [
        "class bstNode:\n",
        "  def __init__(self, x):\n",
        "    self.data = x\n",
        "    self.left_child = None\n",
        "    self.right_child = None"
      ]
    },
    {
      "cell_type": "markdown",
      "source": [
        "Define BST"
      ],
      "metadata": {
        "id": "U6LAA8kHhd8X"
      }
    },
    {
      "cell_type": "markdown",
      "source": [
        "Some (deletion) adapted from [link text](https://https://www.w3resource.com/python-exercises/data-structures-and-algorithms/python-binary-search-tree-exercise-4.php)"
      ],
      "metadata": {
        "id": "vipDAcy_H0fE"
      }
    },
    {
      "cell_type": "code",
      "source": [
        "\n",
        "class myBST:\n",
        "  def __init__(self):\n",
        "    self.root = None\n",
        "\n",
        "  def insert(self, root, key):\n",
        "    # If the tree is empty, return a new node\n",
        "    if root is None:\n",
        "        return bstNode(key)\n",
        "    # Otherwise, recur down the tree\n",
        "    if key < root.data:\n",
        "        root.left_child = self.insert(root.left_child, key)\n",
        "    else:\n",
        "        root.right_child = self.insert(root.right_child, key)\n",
        "    # return the (unchanged) root pointer\n",
        "    return root\n",
        "\n",
        "  def pre_order(self, root):\n",
        "    if root:\n",
        "      print(root.data)\n",
        "      self.pre_order(root.left_child)\n",
        "      self.pre_order(root.right_child)\n",
        "\n",
        "  def in_order(self, root):\n",
        "    if root:\n",
        "      self.in_order(root.left_child)\n",
        "      print(root.data)\n",
        "      self.in_order(root.right_child)\n",
        "\n",
        "  def post_order(self, root):\n",
        "    if root:\n",
        "      self.post_order(root.left_child)\n",
        "      self.post_order(root.right_child)\n",
        "      print(root.data)\n",
        "\n",
        "\n",
        "  def delete(self, root, key):\n",
        "    # enter your code here\n",
        "    if root is None:\n",
        "      return root\n",
        "\n",
        "    #calls for node to be deleted\n",
        "    if key < root.data:\n",
        "      root.left_child = self.delete(root.left_child, key)\n",
        "    elif key > root.data:\n",
        "      root.right_child = self.delete(root.right_child, key)\n",
        "    else:\n",
        "      #One child or no child\n",
        "      if root.left_child is None:\n",
        "        return root.right_child\n",
        "      elif root.right_child is None:\n",
        "        return root.left_child\n",
        "\n",
        "    #two children\n",
        "      else:\n",
        "        successorParent = root\n",
        "\n",
        "        #find successor\n",
        "        successor = root.right_child\n",
        "        while successor.left_child is not None:\n",
        "          successorParent = successor\n",
        "          successor = successor.left_child\n",
        "\n",
        "        #delete successor, if none, assign to right root\n",
        "        if successorParent != root:\n",
        "          successorParent.left_child = successor.right_child\n",
        "        else:\n",
        "          successorParent.right_child = successor.right_child\n",
        "\n",
        "        #copy successor data to root\n",
        "        root.key = successor.key\n",
        "\n",
        "        #delete successor and return root\n",
        "        del successor\n",
        "        return root\n",
        "\n",
        "#References\n",
        "#https://www.youtube.com/watch?v=gcULXE7ViZw&t=889s\n",
        "#https://www.geeksforgeeks.org/deletion-in-binary-search-tree/"
      ],
      "metadata": {
        "id": "dO4gib7phKlE"
      },
      "execution_count": null,
      "outputs": []
    },
    {
      "cell_type": "code",
      "source": [
        "my_tree = myBST()\n",
        "my_tree.root = my_tree.insert(my_tree.root, 6)\n",
        "my_tree.root = my_tree.insert(my_tree.root, 4)\n",
        "my_tree.root = my_tree.insert(my_tree.root, 100)\n"
      ],
      "metadata": {
        "id": "lhaWMfv0ho-K"
      },
      "execution_count": null,
      "outputs": []
    },
    {
      "cell_type": "code",
      "source": [
        "my_tree.insert(None, 6)\n",
        "my_tree"
      ],
      "metadata": {
        "colab": {
          "base_uri": "https://localhost:8080/"
        },
        "id": "E4ir2qrNuBRq",
        "outputId": "17fbe989-27af-40fb-e118-c0c7f6c7346e"
      },
      "execution_count": null,
      "outputs": [
        {
          "output_type": "execute_result",
          "data": {
            "text/plain": [
              "<__main__.myBST at 0x7f20d3594fa0>"
            ]
          },
          "metadata": {},
          "execution_count": 58
        }
      ]
    },
    {
      "cell_type": "code",
      "source": [
        "my_tree.root.data"
      ],
      "metadata": {
        "id": "iPoIeyILtkFt",
        "colab": {
          "base_uri": "https://localhost:8080/"
        },
        "outputId": "a37551fc-aaed-45f9-c9ea-e7a6469cd3c0"
      },
      "execution_count": null,
      "outputs": [
        {
          "output_type": "execute_result",
          "data": {
            "text/plain": [
              "6"
            ]
          },
          "metadata": {},
          "execution_count": 59
        }
      ]
    },
    {
      "cell_type": "code",
      "source": [
        "my_tree.pre_order(my_tree.root)"
      ],
      "metadata": {
        "id": "mOKDTMr4XENx",
        "colab": {
          "base_uri": "https://localhost:8080/"
        },
        "outputId": "4d555e95-58e5-4cd7-8fa2-504edd91f513"
      },
      "execution_count": null,
      "outputs": [
        {
          "output_type": "stream",
          "name": "stdout",
          "text": [
            "6\n",
            "4\n",
            "100\n"
          ]
        }
      ]
    },
    {
      "cell_type": "code",
      "source": [
        "my_tree.in_order(my_tree.root)"
      ],
      "metadata": {
        "id": "IJMZpW8zZEDB",
        "colab": {
          "base_uri": "https://localhost:8080/"
        },
        "outputId": "00351fda-5b5e-451d-dd4d-1cdeaa431d3d"
      },
      "execution_count": null,
      "outputs": [
        {
          "output_type": "stream",
          "name": "stdout",
          "text": [
            "4\n",
            "6\n",
            "100\n"
          ]
        }
      ]
    },
    {
      "cell_type": "code",
      "source": [
        "my_tree.post_order(my_tree.root)"
      ],
      "metadata": {
        "id": "2O737bDgZJUG",
        "colab": {
          "base_uri": "https://localhost:8080/"
        },
        "outputId": "debc6b93-fc0d-4dd8-f1c4-735aea5f9ea9"
      },
      "execution_count": null,
      "outputs": [
        {
          "output_type": "stream",
          "name": "stdout",
          "text": [
            "4\n",
            "100\n",
            "6\n"
          ]
        }
      ]
    },
    {
      "cell_type": "code",
      "source": [
        "my_tree.delete(my_tree.root, 4)"
      ],
      "metadata": {
        "id": "4oQ0e0BCZMFr"
      },
      "execution_count": null,
      "outputs": []
    },
    {
      "cell_type": "code",
      "source": [
        "my_tree.pre_order(my_tree.root)"
      ],
      "metadata": {
        "id": "hifb-EKssxON",
        "colab": {
          "base_uri": "https://localhost:8080/"
        },
        "outputId": "7e2ea48e-a78f-4ff5-da2e-af2a56bdc39c"
      },
      "execution_count": null,
      "outputs": [
        {
          "output_type": "stream",
          "name": "stdout",
          "text": [
            "6\n",
            "100\n"
          ]
        }
      ]
    },
    {
      "cell_type": "code",
      "source": [
        "my_tree.root = my_tree.insert(my_tree.root, 8)\n",
        "my_tree.root = my_tree.insert(my_tree.root, 3)"
      ],
      "metadata": {
        "id": "es_eZJNrOcgQ"
      },
      "execution_count": null,
      "outputs": []
    },
    {
      "cell_type": "code",
      "source": [
        "my_tree.pre_order(my_tree.root)"
      ],
      "metadata": {
        "colab": {
          "base_uri": "https://localhost:8080/"
        },
        "id": "hY-LriISOxgS",
        "outputId": "969f8658-d189-4430-dc7b-7709fa8e710e"
      },
      "execution_count": null,
      "outputs": [
        {
          "output_type": "stream",
          "name": "stdout",
          "text": [
            "6\n",
            "4\n",
            "3\n",
            "100\n",
            "8\n"
          ]
        }
      ]
    },
    {
      "cell_type": "code",
      "source": [
        "# my_tree.delete(my_tree.root, 6)"
      ],
      "metadata": {
        "id": "cirMjppwOzzq"
      },
      "execution_count": null,
      "outputs": []
    },
    {
      "cell_type": "code",
      "source": [
        "# my_tree.pre_order(my_tree.root)"
      ],
      "metadata": {
        "id": "GFkCHp9VO9_x"
      },
      "execution_count": null,
      "outputs": []
    },
    {
      "cell_type": "code",
      "source": [
        "# my_tree.delete(my_tree.root, 100)"
      ],
      "metadata": {
        "id": "a4At_TiCO_SA"
      },
      "execution_count": null,
      "outputs": []
    },
    {
      "cell_type": "code",
      "source": [
        "# my_tree.pre_order(my_tree.root)"
      ],
      "metadata": {
        "id": "Zxkr8_WnPGM8"
      },
      "execution_count": null,
      "outputs": []
    }
  ]
}