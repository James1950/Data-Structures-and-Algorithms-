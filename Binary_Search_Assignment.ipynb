{
  "nbformat": 4,
  "nbformat_minor": 0,
  "metadata": {
    "colab": {
      "provenance": []
    },
    "kernelspec": {
      "name": "python3",
      "display_name": "Python 3"
    },
    "language_info": {
      "name": "python"
    }
  },
  "cells": [
    {
      "cell_type": "code",
      "execution_count": null,
      "metadata": {
        "colab": {
          "base_uri": "https://localhost:8080/"
        },
        "id": "26vvLJ3eAuDQ",
        "outputId": "2938a437-0b82-48dd-e0aa-4a43c2842c7e"
      },
      "outputs": [
        {
          "output_type": "stream",
          "name": "stdout",
          "text": [
            "0 9 19\n",
            "10 14 19\n",
            "15 17 19\n",
            "15 15 16\n",
            "-----------------------\n",
            "The element 16 is present at index 15\n"
          ]
        }
      ],
      "source": [
        "#James Baumhardt\n",
        "#Binary Search\n",
        "\n",
        "# create the halves and use middle to find the number.\n",
        "#inputs are arraylist, 0, max length of array, and search key\n",
        "def binary_search(array, left_index, right_index, key):\n",
        "\n",
        "  #if the left is larger than right, invalid\n",
        "  if (left_index > right_index):\n",
        "    return None\n",
        "  else:\n",
        "    if left_index <= right_index:\n",
        "      #get middle index\n",
        "      middle_index = (left_index + right_index) // 2\n",
        "      print(left_index,middle_index,right_index)\n",
        "\n",
        "      #if key is in middle\n",
        "      if array[middle_index] == key:\n",
        "        return middle_index\n",
        "\n",
        "      #if key is larger than middle, search right portion\n",
        "      elif array[middle_index] < key:\n",
        "        return binary_search(array, middle_index + 1, right_index, key)\n",
        "\n",
        "      #if element is smaller than middle, search left portion\n",
        "      else:\n",
        "        return binary_search(array, left_index, middle_index - 1, key)\n",
        "\n",
        "    #element is not located in array\n",
        "    else:\n",
        "      return -1\n",
        "\n",
        "\n",
        "#sorted array\n",
        "array = [ 1, 2, 3, 4, 5, 6, 7, 8, 9, 10, 11, 12, 13, 14, 15, 16, 17, 18, 19, 20]\n",
        "\n",
        "#key (num we are searching for)\n",
        "key = 16\n",
        "\n",
        "#2 endpoints\n",
        "left_index = 0\n",
        "right_index = len(array) - 1\n",
        "\n",
        "location = binary_search(array, left_index, right_index, key)\n",
        "\n",
        "print(\"-----------------------\")\n",
        "print(\"The element\",key,\"is present at index\",location)\n",
        "\n",
        "\n",
        "\n",
        "#Complexity Analysis\n",
        "#TIME\n",
        "#Best Case = O(1) (if the key is found in the first comparison)\n",
        "#Avergae Case = O(log n) (Each time the algorithm is called, the space in order to find the key is reduced by half. It will take time to find the element)\n",
        "#Worst Case = O(log n) (The key is not located inside of the array and the algorithm just ran with no result except  for taking up time)\n",
        "\n",
        "#SPACE\n",
        "# The space complexity is O(1) because this algorithm uses the same amount of memory every time the algorithm is run. \"constant\"\n",
        "\n",
        "#References\n",
        "#https://www.youtube.com/watch?v=MFhxShGxHWc\n",
        "#https://www.youtube.com/watch?v=E6IOrZUpvSE\n",
        "#https://www.youtube.com/watch?v=SfxLtJyxaPg\n"
      ]
    },
    {
      "cell_type": "code",
      "source": [],
      "metadata": {
        "id": "w3jRdU7iUHRJ"
      },
      "execution_count": null,
      "outputs": []
    }
  ]
}