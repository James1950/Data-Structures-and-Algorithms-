{
  "nbformat": 4,
  "nbformat_minor": 0,
  "metadata": {
    "colab": {
      "provenance": [],
      "authorship_tag": "ABX9TyMCvv+GxZLmmBVyo8V1eV99"
    },
    "kernelspec": {
      "name": "python3",
      "display_name": "Python 3"
    },
    "language_info": {
      "name": "python"
    }
  },
  "cells": [
    {
      "cell_type": "code",
      "execution_count": null,
      "metadata": {
        "colab": {
          "base_uri": "https://localhost:8080/"
        },
        "id": "rContSM4q59W",
        "outputId": "0a30034a-513f-48f4-ca34-68870b3a9b64"
      },
      "outputs": [
        {
          "output_type": "stream",
          "name": "stdout",
          "text": [
            "[0, 0, 0, 0, 0, 0]\n",
            "[0, 0, 0, 0, 0, 0]\n",
            "[0, 0, 0, 0, 0, 0]\n",
            "[0, 0, 0, 0, 0, 0]\n",
            "[0, 0, 0, 0, 0, 0]\n",
            "[0, 0, 0, 0, 0, 0]\n",
            "-------------------\n",
            "[0, 0, 0, 0, 0, 0]\n",
            "[0, 1, 1, 1, 1, 1]\n",
            "[0, 1, 1, 1, 1, 1]\n",
            "[0, 1, 2, 2, 2, 2]\n",
            "[0, 1, 2, 2, 3, 3]\n",
            "[0, 1, 2, 2, 3, 3]\n",
            "\n",
            "Strings: \"abcdd\", \"acfdf\"\n",
            "LCS Length: 3, LCS Sequence: \"acd\"\n"
          ]
        }
      ],
      "source": [
        "#Longest Common Subsequence\n",
        "#James Baumhardt\n",
        "\n",
        "def lcs(string1, string2):\n",
        "  #Get string length\n",
        "  a = len(string1)\n",
        "  b = len(string2)\n",
        "\n",
        "  #Create 2D list to store lengths of strings for comparison\n",
        "  table = [[0 for i in range((b) + 1)] for i in range((a) + 1)]\n",
        "\n",
        "  #Print list\n",
        "  for row in table:\n",
        "    print(row)\n",
        "\n",
        "  #Start filling table\n",
        "  for i in range(1, a + 1):\n",
        "    for j in range(1, b + 1):\n",
        "      #Check if characters are equal\n",
        "      if string1[i - 1] == string2[j - 1]:\n",
        "        #Updates with previous diagonal cell + 1\n",
        "        table[i][j] = table[i - 1][j - 1] + 1\n",
        "      else:\n",
        "        #Get max vaue from cell\n",
        "        table[i][j] = max(table[i - 1][j], table[i][j - 1])\n",
        "\n",
        "  print(\"-------------------\")\n",
        "  #Print list\n",
        "  for row in table:\n",
        "    print(row)\n",
        "  print()\n",
        "\n",
        "  #Get lcs length\n",
        "  lcs_length = table[a][b]\n",
        "  #print(lcs_length)\n",
        "\n",
        "  #Store lcs characters\n",
        "  lcs_order = [\"\"] * lcs_length\n",
        "  #print(lcs_order)\n",
        "\n",
        "  i = a\n",
        "  j = b\n",
        "\n",
        "  #Loop through table\n",
        "  while i > 0 and j > 0:\n",
        "    #If characters are equal, add to lcs_order\n",
        "    if string1[i - 1] == string2[j - 1]:\n",
        "      lcs_order[lcs_length - 1] = string1[i - 1]\n",
        "      lcs_length -= 1\n",
        "      i -= 1\n",
        "      j -= 1\n",
        "\n",
        "    #If value above > value left, move up, otherwise move left\n",
        "    elif table[i - 1][j] > table[i][j - 1]:\n",
        "      i -= 1\n",
        "    else:\n",
        "      j -= 1\n",
        "\n",
        "  #return length + lcs string\n",
        "  return table[a][b], \"\".join(lcs_order)\n",
        "\n",
        "\n",
        "#Get Input\n",
        "input_string1 = \"abcdd\"\n",
        "input_string2 = \"acfdf\"\n",
        "result_length, result_sequence = lcs(input_string1, input_string2)\n",
        "\n",
        "#Print Output\n",
        "print(\"Strings: \\\"{}\\\", \\\"{}\\\"\".format(input_string1,input_string2))\n",
        "print(\"LCS Length: {}, LCS Sequence: \\\"{}\\\"\".format(result_length,result_sequence))\n",
        "\n",
        "\n",
        "#References\n",
        "#https://www.geeksforgeeks.org/longest-common-subsequence-dp-4/\n",
        "#https://www.youtube.com/watch?v=HgUOWB0StNE\n",
        "#https://www.geeksforgeeks.org/python-using-2d-arrays-lists-the-right-way/\n",
        "#https://www.programiz.com/dsa/longest-common-subsequence\n",
        "#https://www.youtube.com/watch?v=FWyANT-7iq8\n"
      ]
    }
  ]
}